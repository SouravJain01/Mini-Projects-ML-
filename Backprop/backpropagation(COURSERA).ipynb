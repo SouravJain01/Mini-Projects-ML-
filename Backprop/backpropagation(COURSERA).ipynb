{
 "cells": [
  {
   "cell_type": "code",
   "execution_count": 1,
   "metadata": {},
   "outputs": [],
   "source": [
    "import numpy as np\n",
    "import pandas as pd\n",
    "import matplotlib as mpl\n",
    "import matplotlib.pyplot as plt\n",
    "import scipy.io"
   ]
  },
  {
   "cell_type": "code",
   "execution_count": 2,
   "metadata": {},
   "outputs": [
    {
     "data": {
      "text/plain": [
       "{'__header__': b'MATLAB 5.0 MAT-file, Platform: GLNXA64, Created on: Sun Oct 16 13:09:09 2011',\n",
       " '__version__': '1.0',\n",
       " '__globals__': [],\n",
       " 'X': array([[0., 0., 0., ..., 0., 0., 0.],\n",
       "        [0., 0., 0., ..., 0., 0., 0.],\n",
       "        [0., 0., 0., ..., 0., 0., 0.],\n",
       "        ...,\n",
       "        [0., 0., 0., ..., 0., 0., 0.],\n",
       "        [0., 0., 0., ..., 0., 0., 0.],\n",
       "        [0., 0., 0., ..., 0., 0., 0.]]),\n",
       " 'y': array([[10],\n",
       "        [10],\n",
       "        [10],\n",
       "        ...,\n",
       "        [ 9],\n",
       "        [ 9],\n",
       "        [ 9]], dtype=uint8)}"
      ]
     },
     "execution_count": 2,
     "metadata": {},
     "output_type": "execute_result"
    }
   ],
   "source": [
    "data=scipy.io.loadmat('ex3data1.mat')\n",
    "data"
   ]
  },
  {
   "cell_type": "code",
   "execution_count": 14,
   "metadata": {},
   "outputs": [
    {
     "data": {
      "text/plain": [
       "(5000, 400)"
      ]
     },
     "execution_count": 14,
     "metadata": {},
     "output_type": "execute_result"
    }
   ],
   "source": [
    "x=data['X']\n",
    "#x=x*255\n",
    "#x=x.T\n",
    "x.shape"
   ]
  },
  {
   "cell_type": "code",
   "execution_count": 19,
   "metadata": {},
   "outputs": [
    {
     "data": {
      "image/png": "[encoded data removed]",
      "text/plain": [
       "<Figure size 576x576 with 25 Axes>"
      ]
     },
     "metadata": {},
     "output_type": "display_data"
    }
   ],
   "source": [
    "import matplotlib.image as mpi\n",
    "fig,axis=plt.subplots(5,5,figsize=(8,8))\n",
    "for i in range(5):\n",
    "    for j in range(5):\n",
    "        axis[i,j].imshow(x[np.random.randint(0,5001),:].reshape(20,20,order='F'),cmap='gray')"
   ]
  },
  {
   "cell_type": "code",
   "execution_count": 265,
   "metadata": {},
   "outputs": [
    {
     "data": {
      "text/plain": [
       "(5000, 1)"
      ]
     },
     "execution_count": 265,
     "metadata": {},
     "output_type": "execute_result"
    }
   ],
   "source": [
    "y=data['y']\n",
    "y.shape"
   ]
  },
  {
   "cell_type": "code",
   "execution_count": 266,
   "metadata": {},
   "outputs": [],
   "source": [
    "theta0=np.random.randn(25,400)*0.01\n",
    "theta0\n",
    "b0=np.zeros((25,5000))"
   ]
  },
  {
   "cell_type": "code",
   "execution_count": 267,
   "metadata": {},
   "outputs": [],
   "source": [
    "theta1=np.random.randn(10,25)*0.01\n",
    "theta1\n",
    "b1=np.zeros((10,5000))"
   ]
  },
  {
   "cell_type": "code",
   "execution_count": 268,
   "metadata": {},
   "outputs": [],
   "source": [
    "def sigmoid(h):\n",
    "    return (1/(1+np.exp(-h)))"
   ]
  },
  {
   "cell_type": "code",
   "execution_count": 269,
   "metadata": {},
   "outputs": [
    {
     "data": {
      "text/plain": [
       "(10, 5000)"
      ]
     },
     "execution_count": 269,
     "metadata": {},
     "output_type": "execute_result"
    }
   ],
   "source": [
    "h1=np.dot(theta0,x)+b0\n",
    "x1=np.tanh(h1)\n",
    "h2=np.dot(theta1,x1)+b1\n",
    "x2=sigmoid(h2)\n",
    "x2.shape"
   ]
  },
  {
   "cell_type": "code",
   "execution_count": 270,
   "metadata": {},
   "outputs": [
    {
     "data": {
      "text/plain": [
       "(10, 5000)"
      ]
     },
     "execution_count": 270,
     "metadata": {},
     "output_type": "execute_result"
    }
   ],
   "source": [
    "y2=np.zeros((5000,10))\n",
    "for i in range(0,5000):\n",
    "    if(y[i]==10):\n",
    "        y[i]=0\n",
    "    y2[i][y[i]]=1\n",
    "y2=y2.T\n",
    "y2.shape"
   ]
  },
  {
   "cell_type": "code",
   "execution_count": 271,
   "metadata": {},
   "outputs": [],
   "source": [
    "logprobs=np.multiply(np.log(x2),y2)+np.multiply((1-y2),np.log(1-x2))\n",
    "cost=-np.sum(logprobs)/5000"
   ]
  },
  {
   "cell_type": "code",
   "execution_count": 272,
   "metadata": {},
   "outputs": [],
   "source": [
    "dh2=x2-y2\n",
    "dtheta1=(1/5000)*(np.dot(dh2,x1.T))\n",
    "db1=(1/5000)*(np.sum(dh2,axis=1,keepdims=True))\n",
    "dh1=np.multiply(np.dot(theta1.T,dh2),1-np.power(x1,2))\n",
    "dtheta0=(1/5000)*np.dot(dh1,x.T)\n",
    "db0=(1/5000)*np.sum(dh1,axis=1,keepdims=True)"
   ]
  },
  {
   "cell_type": "code",
   "execution_count": 273,
   "metadata": {},
   "outputs": [],
   "source": [
    "lr=0.001"
   ]
  },
  {
   "cell_type": "code",
   "execution_count": 274,
   "metadata": {},
   "outputs": [],
   "source": [
    "theta0=theta0-lr*dtheta0\n",
    "b0=b0-lr*db0\n",
    "theta1=theta1-lr*dtheta1\n",
    "b1=b1-lr*db1"
   ]
  },
  {
   "cell_type": "code",
   "execution_count": 275,
   "metadata": {},
   "outputs": [],
   "source": [
    "def init(n_h):\n",
    "    theta0=np.random.randn(n_h,400)*0.01\n",
    "    theta0\n",
    "    b0=np.zeros((n_h,5000))\n",
    "    theta1=np.random.randn(10,n_h)*0.01\n",
    "    theta1\n",
    "    b1=np.zeros((10,5000))\n",
    "    return theta0,b0,theta1,b1"
   ]
  },
  {
   "cell_type": "code",
   "execution_count": 276,
   "metadata": {},
   "outputs": [],
   "source": [
    "def frwd_prop(x,para):\n",
    "    theta0=para[0]\n",
    "    b0=para[1]\n",
    "    theta1=para[2]\n",
    "    b1=para[3]\n",
    "    h1=np.dot(theta0,x)+b0\n",
    "    x1=np.tanh(h1)\n",
    "    h2=np.dot(theta1,x1)+b1\n",
    "    x2=sigmoid(h2)\n",
    "    return x2,h2,x1,h1"
   ]
  },
  {
   "cell_type": "code",
   "execution_count": 277,
   "metadata": {},
   "outputs": [],
   "source": [
    "def back_prop(para,cache,x,y2):\n",
    "    theta0=para[0]\n",
    "    b0=para[1]\n",
    "    theta1=para[2]\n",
    "    b1=para[3]\n",
    "    x2=cache[0]\n",
    "    h2=cache[1]\n",
    "    x1=cache[2]\n",
    "    h1=cache[3]\n",
    "    dh2=x2-y2\n",
    "    dtheta1=(1/5000)*(np.dot(dh2,x1.T))\n",
    "    db1=(1/5000)*(np.sum(dh2,axis=1,keepdims=True))\n",
    "    dh1=np.multiply(np.dot(theta1.T,dh2),1-np.power(x1,2))\n",
    "    dtheta0=(1/5000)*np.dot(dh1,x.T)\n",
    "    db0=(1/5000)*np.sum(dh1,axis=1,keepdims=True)\n",
    "    return dtheta0,db0,dtheta1,db1"
   ]
  },
  {
   "cell_type": "code",
   "execution_count": 278,
   "metadata": {},
   "outputs": [],
   "source": [
    "def update(para,grad):\n",
    "    theta0=para[0]\n",
    "    b0=para[1]\n",
    "    theta1=para[2]\n",
    "    b1=para[3]\n",
    "    dtheta0=grad[0]\n",
    "    db0=grad[1]\n",
    "    dtheta1=grad[2]\n",
    "    db1=grad[3]\n",
    "    theta0=theta0-lr*dtheta0\n",
    "    b0=b0-lr*db0\n",
    "    theta1=theta1-lr*dtheta1\n",
    "    b1=b1-lr*db1\n",
    "    return theta0,b0,theta1,b1"
   ]
  },
  {
   "cell_type": "code",
   "execution_count": 279,
   "metadata": {},
   "outputs": [],
   "source": [
    "def nn_model(x,y2,n_h,lr,num_iterations=11000,print_cost=True):\n",
    "    \"\"\"\n",
    "    x-shape of dataset\n",
    "    y-shape of output layer\n",
    "    n_h-size of hidden layer\n",
    "    lr-learning rate\n",
    "    \"\"\"\n",
    "    np.random.seed(2)\n",
    "    para=init(n_h)\n",
    "    theta0=para[0]\n",
    "    b0=para[1]\n",
    "    theta1=para[2]\n",
    "    b1=para[3]\n",
    "    for i in range(0,num_iterations):\n",
    "        cache=frwd_prop(x,para)\n",
    "        x2=cache[0]\n",
    "        logprobs=np.multiply(np.log(x2),y2)+np.multiply((1-y2),np.log(1-x2))\n",
    "        cost=-np.sum(logprobs)/5000\n",
    "        grads=back_prop(para,cache,x,y2)\n",
    "        para=update(para,grads)\n",
    "        if print_cost and i%1000==0:\n",
    "            print(\"Cost after iteration %i: %f\" %(i,cost))\n",
    "    return para"
   ]
  },
  {
   "cell_type": "code",
   "execution_count": 300,
   "metadata": {},
   "outputs": [],
   "source": [
    "def predict1(para,x):\n",
    "    cache=frwd_prop(x,para)\n",
    "    x2=cache[0]\n",
    "    predictions=x2>=0.5\n",
    "    return predictions"
   ]
  },
  {
   "cell_type": "code",
   "execution_count": 284,
   "metadata": {},
   "outputs": [
    {
     "name": "stdout",
     "output_type": "stream",
     "text": [
      "Cost after iteration 0: 6.957530\n",
      "Cost after iteration 1000: 3.256990\n",
      "Cost after iteration 2000: 3.250914\n",
      "Cost after iteration 3000: 3.250834\n",
      "Cost after iteration 4000: 3.237726\n",
      "Cost after iteration 5000: 3.207020\n",
      "Cost after iteration 6000: 3.143775\n",
      "Cost after iteration 7000: 3.003392\n",
      "Cost after iteration 8000: 2.857998\n",
      "Cost after iteration 9000: 2.731927\n",
      "Cost after iteration 10000: 2.623555\n"
     ]
    }
   ],
   "source": [
    "para=nn_model(x,y2,n_h=25,lr=0.8,num_iterations=11000,print_cost=True)\n",
    "#plot_decision_boundary(lambda x:predict(para,x.T),x,y2)"
   ]
  },
  {
   "cell_type": "code",
   "execution_count": null,
   "metadata": {},
   "outputs": [],
   "source": []
  }
 ],
 "metadata": {
  "kernelspec": {
   "display_name": "Python 3",
   "language": "python",
   "name": "python3"
  },
  "language_info": {
   "codemirror_mode": {
    "name": "ipython",
    "version": 3
   },
   "file_extension": ".py",
   "mimetype": "text/x-python",
   "name": "python",
   "nbconvert_exporter": "python",
   "pygments_lexer": "ipython3",
   "version": "3.6.5"
  }
 },
 "nbformat": 4,
 "nbformat_minor": 2
}
